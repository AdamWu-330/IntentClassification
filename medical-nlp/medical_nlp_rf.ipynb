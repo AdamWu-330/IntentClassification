{
  "nbformat": 4,
  "nbformat_minor": 0,
  "metadata": {
    "colab": {
      "name": "medical-nlp-rf.ipynb",
      "provenance": []
    },
    "kernelspec": {
      "name": "python3",
      "display_name": "Python 3"
    },
    "language_info": {
      "name": "python"
    }
  },
  "cells": [
    {
      "cell_type": "code",
      "execution_count": 1,
      "metadata": {
        "colab": {
          "base_uri": "https://localhost:8080/"
        },
        "id": "GUp8w9hOqSnR",
        "outputId": "d29e5ced-e979-470f-d869-e4d3da5f9b68"
      },
      "outputs": [
        {
          "output_type": "stream",
          "name": "stdout",
          "text": [
            "Mounted at /content/drive\n"
          ]
        }
      ],
      "source": [
        "from google.colab import drive\n",
        "drive.mount('/content/drive')"
      ]
    },
    {
      "cell_type": "code",
      "source": [
        "from intent_classification_helper import *"
      ],
      "metadata": {
        "id": "r0DxyZTHq36x"
      },
      "execution_count": 1,
      "outputs": []
    },
    {
      "cell_type": "code",
      "source": [
        "medical_train = pd.read_csv('/content/drive/MyDrive/nlp_datasets/medical-nlp/train.csv', error_bad_lines=False, \n",
        "                   engine='python', encoding='utf-8')\n",
        "medical_train['description+text'] = medical_train['description'] + medical_train['text']\n",
        "medical_train = medical_train.drop(columns=['description', 'text'])\n",
        "\n",
        "medical_test = pd.read_csv('/content/drive/MyDrive/nlp_datasets/medical-nlp/test.csv', error_bad_lines=False, \n",
        "                   engine='python', encoding='utf-8')\n",
        "medical_test['description+text'] = medical_test['description'] + medical_test['text']\n",
        "medical_test = medical_test.drop(columns=['description', 'text'])"
      ],
      "metadata": {
        "colab": {
          "base_uri": "https://localhost:8080/"
        },
        "id": "sgzHSwfBqj-j",
        "outputId": "b9338f0f-0f9b-4fca-865c-a04fa5592585"
      },
      "execution_count": 2,
      "outputs": [
        {
          "output_type": "stream",
          "name": "stderr",
          "text": [
            "/usr/local/lib/python3.7/dist-packages/IPython/core/interactiveshell.py:2882: FutureWarning: The error_bad_lines argument has been deprecated and will be removed in a future version.\n",
            "\n",
            "\n",
            "  exec(code_obj, self.user_global_ns, self.user_ns)\n"
          ]
        }
      ]
    },
    {
      "cell_type": "code",
      "source": [
        "# encode label\n",
        "onehot_encoder = OneHotEncoder()\n",
        "y_train = onehot_encoder.fit_transform(medical_train['label'].values.reshape(-1, 1)).todense()\n",
        "y_test = onehot_encoder.fit_transform(medical_test['label'].values.reshape(-1, 1)).todense()"
      ],
      "metadata": {
        "id": "xECgoTlwsaCD"
      },
      "execution_count": 3,
      "outputs": []
    },
    {
      "cell_type": "code",
      "source": [
        "# preprocess text\n",
        "print('Preprocessing text on training set...')\n",
        "preprocess_text(medical_train, 'description+text', to_lowercase=False, customized_stopwords='/content/drive/MyDrive/nlp_datasets/medical-nlp/clinical-stopwords.txt')\n",
        "preprocess_text(medical_test, 'description+text', to_lowercase=False, customized_stopwords='/content/drive/MyDrive/nlp_datasets/medical-nlp/clinical-stopwords.txt')"
      ],
      "metadata": {
        "colab": {
          "base_uri": "https://localhost:8080/"
        },
        "id": "hm21nrKWs0ts",
        "outputId": "96ca2ece-8791-44c2-adc8-e05beb106be2"
      },
      "execution_count": 4,
      "outputs": [
        {
          "output_type": "stream",
          "name": "stdout",
          "text": [
            "Preprocessing text on training set...\n",
            "\n",
            "\n",
            "Start text preprocessing: \n",
            "--------------------------\n",
            "Removing html tags...\n",
            "--------------------------\n",
            "Removing nonword characters...\n",
            "--------------------------\n",
            "Removing stopwords...\n",
            "Text preprocessing completed.\n",
            "\n",
            "\n",
            "\n",
            "\n",
            "Start text preprocessing: \n",
            "--------------------------\n",
            "Removing html tags...\n",
            "--------------------------\n",
            "Removing nonword characters...\n",
            "--------------------------\n",
            "Removing stopwords...\n",
            "Text preprocessing completed.\n",
            "\n",
            "\n"
          ]
        }
      ]
    },
    {
      "cell_type": "code",
      "source": [
        "from sklearn.feature_extraction.text import TfidfVectorizer\n",
        "\n",
        "def rf_tf_idf(feature_numbers=[40, 100, 200, 500, 1000], vocabulary=None):\n",
        "  \n",
        "  # try different number of features\n",
        "  for feature_number in feature_numbers:  \n",
        "    tv = TfidfVectorizer(max_df=1.0, min_df=0, max_features=feature_number, vocabulary=vocabulary)\n",
        "    \n",
        "    x_train = medical_train['description+text'].tolist()\n",
        "    x_test = medical_test['description+text'].tolist()\n",
        "\n",
        "    tv.fit(x_train)\n",
        "    x_train = tv.transform(x_train).toarray()\n",
        "    x_test = tv.transform(x_test).toarray()\n",
        "\n",
        "    vocab = tv.get_feature_names_out()\n",
        "\n",
        "    print('TF-IDF vocabulary size: ', len(vocab))\n",
        "    #print(pd.DataFrame(x_train, columns=vocab))\n",
        "    \n",
        "    model = random_foreset_classifier(x_train=x_train, y_train=y_train, num_features=len(vocab), n_estimators=200, max_depth=None, saving=False)\n",
        "    evaluate_model(model=model, name='random_forest_{}_features_n_estimators=200_max_depth=None'.format(len(vocab)), x_test=x_test, y_test=y_test, num_features=len(vocab),\n",
        "                   path='/content/drive/MyDrive/nlp_datasets/medical-nlp/models', filename='evaluation_rf_custom_vocab.csv')\n",
        "\n",
        "    print()\n",
        "    if feature_number < len(vocab):\n",
        "      break"
      ],
      "metadata": {
        "id": "R25v1hc-wjtm"
      },
      "execution_count": 5,
      "outputs": []
    },
    {
      "cell_type": "code",
      "source": [
        "# max number of tf-idf features: 22546\n",
        "feature_numbers = [40, 100, 200, 500, 1000, 2000, 5000, 10000, 15000, 20000, 25000]\n",
        "rf_tf_idf(feature_numbers)"
      ],
      "metadata": {
        "colab": {
          "base_uri": "https://localhost:8080/"
        },
        "id": "yRgXDttnwz7F",
        "outputId": "1e0bdedb-5ebb-4cfa-8053-5b115e1686a0"
      },
      "execution_count": 42,
      "outputs": [
        {
          "output_type": "stream",
          "name": "stdout",
          "text": [
            "TF-IDF vocabulary size:  40\n"
          ]
        },
        {
          "output_type": "stream",
          "name": "stderr",
          "text": [
            "/usr/local/lib/python3.7/dist-packages/sklearn/utils/validation.py:598: FutureWarning: np.matrix usage is deprecated in 1.0 and will raise a TypeError in 1.2. Please convert to a numpy array with np.asarray. For more information see: https://numpy.org/doc/stable/reference/generated/numpy.matrix.html\n",
            "  FutureWarning,\n"
          ]
        },
        {
          "output_type": "stream",
          "name": "stdout",
          "text": [
            "evaluate the model:  random_forest_40_features_n_estimators=150_max_depth=None\n",
            "accuracy score:  0.254\n",
            "balanced accuracy score:  0.18083003073558926\n",
            "weighted precision:  0.21081047052967525\n",
            "weighted recall:  0.25399999999999995\n",
            "weighted f1 score:  0.22923083112896375\n",
            "macro f1 score:  0.16632409130988535\n",
            "\n",
            "TF-IDF vocabulary size:  100\n"
          ]
        },
        {
          "output_type": "stream",
          "name": "stderr",
          "text": [
            "/usr/local/lib/python3.7/dist-packages/sklearn/utils/validation.py:598: FutureWarning: np.matrix usage is deprecated in 1.0 and will raise a TypeError in 1.2. Please convert to a numpy array with np.asarray. For more information see: https://numpy.org/doc/stable/reference/generated/numpy.matrix.html\n",
            "  FutureWarning,\n"
          ]
        },
        {
          "output_type": "stream",
          "name": "stdout",
          "text": [
            "evaluate the model:  random_forest_100_features_n_estimators=150_max_depth=None\n",
            "accuracy score:  0.37\n",
            "balanced accuracy score:  0.2701715071520792\n",
            "weighted precision:  0.3109310638392672\n",
            "weighted recall:  0.37\n",
            "weighted f1 score:  0.33122175276596794\n",
            "macro f1 score:  0.25088366043913524\n",
            "\n"
          ]
        },
        {
          "output_type": "stream",
          "name": "stderr",
          "text": [
            "/usr/local/lib/python3.7/dist-packages/ipykernel_launcher.py:23: FutureWarning: The error_bad_lines argument has been deprecated and will be removed in a future version.\n",
            "\n",
            "\n"
          ]
        },
        {
          "output_type": "stream",
          "name": "stdout",
          "text": [
            "TF-IDF vocabulary size:  200\n"
          ]
        },
        {
          "output_type": "stream",
          "name": "stderr",
          "text": [
            "/usr/local/lib/python3.7/dist-packages/sklearn/utils/validation.py:598: FutureWarning: np.matrix usage is deprecated in 1.0 and will raise a TypeError in 1.2. Please convert to a numpy array with np.asarray. For more information see: https://numpy.org/doc/stable/reference/generated/numpy.matrix.html\n",
            "  FutureWarning,\n"
          ]
        },
        {
          "output_type": "stream",
          "name": "stdout",
          "text": [
            "evaluate the model:  random_forest_200_features_n_estimators=150_max_depth=None\n",
            "accuracy score:  0.38\n",
            "balanced accuracy score:  0.2893282663250284\n",
            "weighted precision:  0.33548585202601383\n",
            "weighted recall:  0.38\n",
            "weighted f1 score:  0.3501164238011407\n",
            "macro f1 score:  0.27693750511786097\n",
            "\n"
          ]
        },
        {
          "output_type": "stream",
          "name": "stderr",
          "text": [
            "/usr/local/lib/python3.7/dist-packages/ipykernel_launcher.py:23: FutureWarning: The error_bad_lines argument has been deprecated and will be removed in a future version.\n",
            "\n",
            "\n"
          ]
        },
        {
          "output_type": "stream",
          "name": "stdout",
          "text": [
            "TF-IDF vocabulary size:  500\n"
          ]
        },
        {
          "output_type": "stream",
          "name": "stderr",
          "text": [
            "/usr/local/lib/python3.7/dist-packages/sklearn/utils/validation.py:598: FutureWarning: np.matrix usage is deprecated in 1.0 and will raise a TypeError in 1.2. Please convert to a numpy array with np.asarray. For more information see: https://numpy.org/doc/stable/reference/generated/numpy.matrix.html\n",
            "  FutureWarning,\n"
          ]
        },
        {
          "output_type": "stream",
          "name": "stdout",
          "text": [
            "evaluate the model:  random_forest_500_features_n_estimators=150_max_depth=None\n",
            "accuracy score:  0.374\n",
            "balanced accuracy score:  0.2885994424715418\n",
            "weighted precision:  0.34016092209856913\n",
            "weighted recall:  0.374\n",
            "weighted f1 score:  0.350664514130653\n",
            "macro f1 score:  0.28051385580539057\n",
            "\n"
          ]
        },
        {
          "output_type": "stream",
          "name": "stderr",
          "text": [
            "/usr/local/lib/python3.7/dist-packages/ipykernel_launcher.py:23: FutureWarning: The error_bad_lines argument has been deprecated and will be removed in a future version.\n",
            "\n",
            "\n"
          ]
        },
        {
          "output_type": "stream",
          "name": "stdout",
          "text": [
            "TF-IDF vocabulary size:  1000\n"
          ]
        },
        {
          "output_type": "stream",
          "name": "stderr",
          "text": [
            "/usr/local/lib/python3.7/dist-packages/sklearn/utils/validation.py:598: FutureWarning: np.matrix usage is deprecated in 1.0 and will raise a TypeError in 1.2. Please convert to a numpy array with np.asarray. For more information see: https://numpy.org/doc/stable/reference/generated/numpy.matrix.html\n",
            "  FutureWarning,\n"
          ]
        },
        {
          "output_type": "stream",
          "name": "stdout",
          "text": [
            "evaluate the model:  random_forest_1000_features_n_estimators=150_max_depth=None\n",
            "accuracy score:  0.414\n",
            "balanced accuracy score:  0.3370319792338141\n",
            "weighted precision:  0.3820080860672312\n",
            "weighted recall:  0.414\n",
            "weighted f1 score:  0.38983264305985144\n",
            "macro f1 score:  0.331234822478678\n",
            "\n"
          ]
        },
        {
          "output_type": "stream",
          "name": "stderr",
          "text": [
            "/usr/local/lib/python3.7/dist-packages/ipykernel_launcher.py:23: FutureWarning: The error_bad_lines argument has been deprecated and will be removed in a future version.\n",
            "\n",
            "\n"
          ]
        },
        {
          "output_type": "stream",
          "name": "stdout",
          "text": [
            "TF-IDF vocabulary size:  2000\n"
          ]
        },
        {
          "output_type": "stream",
          "name": "stderr",
          "text": [
            "/usr/local/lib/python3.7/dist-packages/sklearn/utils/validation.py:598: FutureWarning: np.matrix usage is deprecated in 1.0 and will raise a TypeError in 1.2. Please convert to a numpy array with np.asarray. For more information see: https://numpy.org/doc/stable/reference/generated/numpy.matrix.html\n",
            "  FutureWarning,\n"
          ]
        },
        {
          "output_type": "stream",
          "name": "stdout",
          "text": [
            "evaluate the model:  random_forest_2000_features_n_estimators=150_max_depth=None\n",
            "accuracy score:  0.44\n",
            "balanced accuracy score:  0.3752749019883396\n",
            "weighted precision:  0.41916227364185105\n",
            "weighted recall:  0.44\n",
            "weighted f1 score:  0.42077592580656714\n",
            "macro f1 score:  0.371161241809002\n",
            "\n"
          ]
        },
        {
          "output_type": "stream",
          "name": "stderr",
          "text": [
            "/usr/local/lib/python3.7/dist-packages/ipykernel_launcher.py:23: FutureWarning: The error_bad_lines argument has been deprecated and will be removed in a future version.\n",
            "\n",
            "\n"
          ]
        },
        {
          "output_type": "stream",
          "name": "stdout",
          "text": [
            "TF-IDF vocabulary size:  5000\n"
          ]
        },
        {
          "output_type": "stream",
          "name": "stderr",
          "text": [
            "/usr/local/lib/python3.7/dist-packages/sklearn/utils/validation.py:598: FutureWarning: np.matrix usage is deprecated in 1.0 and will raise a TypeError in 1.2. Please convert to a numpy array with np.asarray. For more information see: https://numpy.org/doc/stable/reference/generated/numpy.matrix.html\n",
            "  FutureWarning,\n"
          ]
        },
        {
          "output_type": "stream",
          "name": "stdout",
          "text": [
            "evaluate the model:  random_forest_5000_features_n_estimators=150_max_depth=None\n",
            "accuracy score:  0.374\n",
            "balanced accuracy score:  0.3125882632088785\n",
            "weighted precision:  0.3485138609616204\n",
            "weighted recall:  0.374\n",
            "weighted f1 score:  0.35603010431334237\n",
            "macro f1 score:  0.3064690556242038\n",
            "\n"
          ]
        },
        {
          "output_type": "stream",
          "name": "stderr",
          "text": [
            "/usr/local/lib/python3.7/dist-packages/ipykernel_launcher.py:23: FutureWarning: The error_bad_lines argument has been deprecated and will be removed in a future version.\n",
            "\n",
            "\n"
          ]
        },
        {
          "output_type": "stream",
          "name": "stdout",
          "text": [
            "TF-IDF vocabulary size:  10000\n"
          ]
        },
        {
          "output_type": "stream",
          "name": "stderr",
          "text": [
            "/usr/local/lib/python3.7/dist-packages/sklearn/utils/validation.py:598: FutureWarning: np.matrix usage is deprecated in 1.0 and will raise a TypeError in 1.2. Please convert to a numpy array with np.asarray. For more information see: https://numpy.org/doc/stable/reference/generated/numpy.matrix.html\n",
            "  FutureWarning,\n"
          ]
        },
        {
          "output_type": "stream",
          "name": "stdout",
          "text": [
            "evaluate the model:  random_forest_10000_features_n_estimators=150_max_depth=None\n",
            "accuracy score:  0.334\n",
            "balanced accuracy score:  0.272063069148876\n",
            "weighted precision:  0.309249649122807\n",
            "weighted recall:  0.334\n",
            "weighted f1 score:  0.31844883677112623\n",
            "macro f1 score:  0.26608238239595894\n",
            "\n"
          ]
        },
        {
          "output_type": "stream",
          "name": "stderr",
          "text": [
            "/usr/local/lib/python3.7/dist-packages/ipykernel_launcher.py:23: FutureWarning: The error_bad_lines argument has been deprecated and will be removed in a future version.\n",
            "\n",
            "\n"
          ]
        },
        {
          "output_type": "stream",
          "name": "stdout",
          "text": [
            "TF-IDF vocabulary size:  15000\n"
          ]
        },
        {
          "output_type": "stream",
          "name": "stderr",
          "text": [
            "/usr/local/lib/python3.7/dist-packages/sklearn/utils/validation.py:598: FutureWarning: np.matrix usage is deprecated in 1.0 and will raise a TypeError in 1.2. Please convert to a numpy array with np.asarray. For more information see: https://numpy.org/doc/stable/reference/generated/numpy.matrix.html\n",
            "  FutureWarning,\n"
          ]
        },
        {
          "output_type": "stream",
          "name": "stdout",
          "text": [
            "evaluate the model:  random_forest_15000_features_n_estimators=150_max_depth=None\n",
            "accuracy score:  0.306\n",
            "balanced accuracy score:  0.24579008267621327\n",
            "weighted precision:  0.2845282237736072\n",
            "weighted recall:  0.306\n",
            "weighted f1 score:  0.2932366412142929\n",
            "macro f1 score:  0.24029185925101976\n",
            "\n"
          ]
        },
        {
          "output_type": "stream",
          "name": "stderr",
          "text": [
            "/usr/local/lib/python3.7/dist-packages/ipykernel_launcher.py:23: FutureWarning: The error_bad_lines argument has been deprecated and will be removed in a future version.\n",
            "\n",
            "\n"
          ]
        },
        {
          "output_type": "stream",
          "name": "stdout",
          "text": [
            "TF-IDF vocabulary size:  20000\n"
          ]
        },
        {
          "output_type": "stream",
          "name": "stderr",
          "text": [
            "/usr/local/lib/python3.7/dist-packages/sklearn/utils/validation.py:598: FutureWarning: np.matrix usage is deprecated in 1.0 and will raise a TypeError in 1.2. Please convert to a numpy array with np.asarray. For more information see: https://numpy.org/doc/stable/reference/generated/numpy.matrix.html\n",
            "  FutureWarning,\n"
          ]
        },
        {
          "output_type": "stream",
          "name": "stdout",
          "text": [
            "evaluate the model:  random_forest_20000_features_n_estimators=150_max_depth=None\n",
            "accuracy score:  0.296\n",
            "balanced accuracy score:  0.23177281434162164\n",
            "weighted precision:  0.27135325477735117\n",
            "weighted recall:  0.296\n",
            "weighted f1 score:  0.2814818914072375\n",
            "macro f1 score:  0.22480885782598897\n",
            "\n"
          ]
        },
        {
          "output_type": "stream",
          "name": "stderr",
          "text": [
            "/usr/local/lib/python3.7/dist-packages/ipykernel_launcher.py:23: FutureWarning: The error_bad_lines argument has been deprecated and will be removed in a future version.\n",
            "\n",
            "\n"
          ]
        },
        {
          "output_type": "stream",
          "name": "stdout",
          "text": [
            "TF-IDF vocabulary size:  22546\n"
          ]
        },
        {
          "output_type": "stream",
          "name": "stderr",
          "text": [
            "/usr/local/lib/python3.7/dist-packages/sklearn/utils/validation.py:598: FutureWarning: np.matrix usage is deprecated in 1.0 and will raise a TypeError in 1.2. Please convert to a numpy array with np.asarray. For more information see: https://numpy.org/doc/stable/reference/generated/numpy.matrix.html\n",
            "  FutureWarning,\n"
          ]
        },
        {
          "output_type": "stream",
          "name": "stdout",
          "text": [
            "evaluate the model:  random_forest_22546_features_n_estimators=150_max_depth=None\n",
            "accuracy score:  0.29\n",
            "balanced accuracy score:  0.23006210674856115\n",
            "weighted precision:  0.2696313034840556\n",
            "weighted recall:  0.29\n",
            "weighted f1 score:  0.2780788817660654\n",
            "macro f1 score:  0.2244878084222849\n",
            "\n"
          ]
        },
        {
          "output_type": "stream",
          "name": "stderr",
          "text": [
            "/usr/local/lib/python3.7/dist-packages/ipykernel_launcher.py:23: FutureWarning: The error_bad_lines argument has been deprecated and will be removed in a future version.\n",
            "\n",
            "\n"
          ]
        }
      ]
    },
    {
      "cell_type": "code",
      "source": [
        "# max number of tf-idf features: 22546, n_estimators=200\n",
        "feature_numbers = [40, 100, 200, 500, 1000, 2000, 5000, 10000, 15000, 20000, 25000]\n",
        "rf_tf_idf(feature_numbers)"
      ],
      "metadata": {
        "colab": {
          "base_uri": "https://localhost:8080/"
        },
        "id": "EBcuB2lZGm9b",
        "outputId": "5e4f29e5-ddc1-4bdf-eb0c-338ccaf4e37a"
      },
      "execution_count": 49,
      "outputs": [
        {
          "output_type": "stream",
          "name": "stdout",
          "text": [
            "TF-IDF vocabulary size:  40\n"
          ]
        },
        {
          "output_type": "stream",
          "name": "stderr",
          "text": [
            "/usr/local/lib/python3.7/dist-packages/sklearn/utils/validation.py:598: FutureWarning: np.matrix usage is deprecated in 1.0 and will raise a TypeError in 1.2. Please convert to a numpy array with np.asarray. For more information see: https://numpy.org/doc/stable/reference/generated/numpy.matrix.html\n",
            "  FutureWarning,\n"
          ]
        },
        {
          "output_type": "stream",
          "name": "stdout",
          "text": [
            "evaluate the model:  random_forest_40_features_n_estimators=200_max_depth=None\n",
            "accuracy score:  0.268\n",
            "balanced accuracy score:  0.19486023810092887\n",
            "weighted precision:  0.2282877551020408\n",
            "weighted recall:  0.268\n",
            "weighted f1 score:  0.24543865871485523\n",
            "macro f1 score:  0.1814317232076824\n",
            "\n",
            "TF-IDF vocabulary size:  100\n"
          ]
        },
        {
          "output_type": "stream",
          "name": "stderr",
          "text": [
            "/usr/local/lib/python3.7/dist-packages/sklearn/utils/validation.py:598: FutureWarning: np.matrix usage is deprecated in 1.0 and will raise a TypeError in 1.2. Please convert to a numpy array with np.asarray. For more information see: https://numpy.org/doc/stable/reference/generated/numpy.matrix.html\n",
            "  FutureWarning,\n"
          ]
        },
        {
          "output_type": "stream",
          "name": "stdout",
          "text": [
            "evaluate the model:  random_forest_100_features_n_estimators=200_max_depth=None\n",
            "accuracy score:  0.364\n",
            "balanced accuracy score:  0.25915169857425663\n",
            "weighted precision:  0.2897737553233492\n",
            "weighted recall:  0.364\n",
            "weighted f1 score:  0.3167686595316811\n",
            "macro f1 score:  0.23285241986508282\n",
            "\n"
          ]
        },
        {
          "output_type": "stream",
          "name": "stderr",
          "text": [
            "/usr/local/lib/python3.7/dist-packages/ipykernel_launcher.py:23: FutureWarning: The error_bad_lines argument has been deprecated and will be removed in a future version.\n",
            "\n",
            "\n"
          ]
        },
        {
          "output_type": "stream",
          "name": "stdout",
          "text": [
            "TF-IDF vocabulary size:  200\n"
          ]
        },
        {
          "output_type": "stream",
          "name": "stderr",
          "text": [
            "/usr/local/lib/python3.7/dist-packages/sklearn/utils/validation.py:598: FutureWarning: np.matrix usage is deprecated in 1.0 and will raise a TypeError in 1.2. Please convert to a numpy array with np.asarray. For more information see: https://numpy.org/doc/stable/reference/generated/numpy.matrix.html\n",
            "  FutureWarning,\n"
          ]
        },
        {
          "output_type": "stream",
          "name": "stdout",
          "text": [
            "evaluate the model:  random_forest_200_features_n_estimators=200_max_depth=None\n",
            "accuracy score:  0.39\n",
            "balanced accuracy score:  0.29859211814149755\n",
            "weighted precision:  0.34687450175419265\n",
            "weighted recall:  0.39\n",
            "weighted f1 score:  0.3603191908417961\n",
            "macro f1 score:  0.28730040938622453\n",
            "\n"
          ]
        },
        {
          "output_type": "stream",
          "name": "stderr",
          "text": [
            "/usr/local/lib/python3.7/dist-packages/ipykernel_launcher.py:23: FutureWarning: The error_bad_lines argument has been deprecated and will be removed in a future version.\n",
            "\n",
            "\n"
          ]
        },
        {
          "output_type": "stream",
          "name": "stdout",
          "text": [
            "TF-IDF vocabulary size:  500\n"
          ]
        },
        {
          "output_type": "stream",
          "name": "stderr",
          "text": [
            "/usr/local/lib/python3.7/dist-packages/sklearn/utils/validation.py:598: FutureWarning: np.matrix usage is deprecated in 1.0 and will raise a TypeError in 1.2. Please convert to a numpy array with np.asarray. For more information see: https://numpy.org/doc/stable/reference/generated/numpy.matrix.html\n",
            "  FutureWarning,\n"
          ]
        },
        {
          "output_type": "stream",
          "name": "stdout",
          "text": [
            "evaluate the model:  random_forest_500_features_n_estimators=200_max_depth=None\n",
            "accuracy score:  0.394\n",
            "balanced accuracy score:  0.31546415747710943\n",
            "weighted precision:  0.3710185823249954\n",
            "weighted recall:  0.394\n",
            "weighted f1 score:  0.37649281991340927\n",
            "macro f1 score:  0.3116766850989792\n",
            "\n"
          ]
        },
        {
          "output_type": "stream",
          "name": "stderr",
          "text": [
            "/usr/local/lib/python3.7/dist-packages/ipykernel_launcher.py:23: FutureWarning: The error_bad_lines argument has been deprecated and will be removed in a future version.\n",
            "\n",
            "\n"
          ]
        },
        {
          "output_type": "stream",
          "name": "stdout",
          "text": [
            "TF-IDF vocabulary size:  1000\n"
          ]
        },
        {
          "output_type": "stream",
          "name": "stderr",
          "text": [
            "/usr/local/lib/python3.7/dist-packages/sklearn/utils/validation.py:598: FutureWarning: np.matrix usage is deprecated in 1.0 and will raise a TypeError in 1.2. Please convert to a numpy array with np.asarray. For more information see: https://numpy.org/doc/stable/reference/generated/numpy.matrix.html\n",
            "  FutureWarning,\n"
          ]
        },
        {
          "output_type": "stream",
          "name": "stdout",
          "text": [
            "evaluate the model:  random_forest_1000_features_n_estimators=200_max_depth=None\n",
            "accuracy score:  0.406\n",
            "balanced accuracy score:  0.3278423995504406\n",
            "weighted precision:  0.37307408327233427\n",
            "weighted recall:  0.406\n",
            "weighted f1 score:  0.38115073590288245\n",
            "macro f1 score:  0.3209375469759494\n",
            "\n"
          ]
        },
        {
          "output_type": "stream",
          "name": "stderr",
          "text": [
            "/usr/local/lib/python3.7/dist-packages/ipykernel_launcher.py:23: FutureWarning: The error_bad_lines argument has been deprecated and will be removed in a future version.\n",
            "\n",
            "\n"
          ]
        },
        {
          "output_type": "stream",
          "name": "stdout",
          "text": [
            "TF-IDF vocabulary size:  2000\n"
          ]
        },
        {
          "output_type": "stream",
          "name": "stderr",
          "text": [
            "/usr/local/lib/python3.7/dist-packages/sklearn/utils/validation.py:598: FutureWarning: np.matrix usage is deprecated in 1.0 and will raise a TypeError in 1.2. Please convert to a numpy array with np.asarray. For more information see: https://numpy.org/doc/stable/reference/generated/numpy.matrix.html\n",
            "  FutureWarning,\n"
          ]
        },
        {
          "output_type": "stream",
          "name": "stdout",
          "text": [
            "evaluate the model:  random_forest_2000_features_n_estimators=200_max_depth=None\n",
            "accuracy score:  0.448\n",
            "balanced accuracy score:  0.38402933937202693\n",
            "weighted precision:  0.42581918636613525\n",
            "weighted recall:  0.448\n",
            "weighted f1 score:  0.4284150264177496\n",
            "macro f1 score:  0.38071187484335883\n",
            "\n"
          ]
        },
        {
          "output_type": "stream",
          "name": "stderr",
          "text": [
            "/usr/local/lib/python3.7/dist-packages/ipykernel_launcher.py:23: FutureWarning: The error_bad_lines argument has been deprecated and will be removed in a future version.\n",
            "\n",
            "\n"
          ]
        },
        {
          "output_type": "stream",
          "name": "stdout",
          "text": [
            "TF-IDF vocabulary size:  5000\n"
          ]
        },
        {
          "output_type": "stream",
          "name": "stderr",
          "text": [
            "/usr/local/lib/python3.7/dist-packages/sklearn/utils/validation.py:598: FutureWarning: np.matrix usage is deprecated in 1.0 and will raise a TypeError in 1.2. Please convert to a numpy array with np.asarray. For more information see: https://numpy.org/doc/stable/reference/generated/numpy.matrix.html\n",
            "  FutureWarning,\n"
          ]
        },
        {
          "output_type": "stream",
          "name": "stdout",
          "text": [
            "evaluate the model:  random_forest_5000_features_n_estimators=200_max_depth=None\n",
            "accuracy score:  0.376\n",
            "balanced accuracy score:  0.30866233065369597\n",
            "weighted precision:  0.34543379131889185\n",
            "weighted recall:  0.376\n",
            "weighted f1 score:  0.35427342378177257\n",
            "macro f1 score:  0.3006927271232257\n",
            "\n"
          ]
        },
        {
          "output_type": "stream",
          "name": "stderr",
          "text": [
            "/usr/local/lib/python3.7/dist-packages/ipykernel_launcher.py:23: FutureWarning: The error_bad_lines argument has been deprecated and will be removed in a future version.\n",
            "\n",
            "\n"
          ]
        },
        {
          "output_type": "stream",
          "name": "stdout",
          "text": [
            "TF-IDF vocabulary size:  10000\n"
          ]
        },
        {
          "output_type": "stream",
          "name": "stderr",
          "text": [
            "/usr/local/lib/python3.7/dist-packages/sklearn/utils/validation.py:598: FutureWarning: np.matrix usage is deprecated in 1.0 and will raise a TypeError in 1.2. Please convert to a numpy array with np.asarray. For more information see: https://numpy.org/doc/stable/reference/generated/numpy.matrix.html\n",
            "  FutureWarning,\n"
          ]
        },
        {
          "output_type": "stream",
          "name": "stdout",
          "text": [
            "evaluate the model:  random_forest_10000_features_n_estimators=200_max_depth=None\n",
            "accuracy score:  0.328\n",
            "balanced accuracy score:  0.2641175832622136\n",
            "weighted precision:  0.30223824140803834\n",
            "weighted recall:  0.328\n",
            "weighted f1 score:  0.31182642684004136\n",
            "macro f1 score:  0.2577012725029764\n",
            "\n"
          ]
        },
        {
          "output_type": "stream",
          "name": "stderr",
          "text": [
            "/usr/local/lib/python3.7/dist-packages/ipykernel_launcher.py:23: FutureWarning: The error_bad_lines argument has been deprecated and will be removed in a future version.\n",
            "\n",
            "\n"
          ]
        },
        {
          "output_type": "stream",
          "name": "stdout",
          "text": [
            "TF-IDF vocabulary size:  15000\n"
          ]
        },
        {
          "output_type": "stream",
          "name": "stderr",
          "text": [
            "/usr/local/lib/python3.7/dist-packages/sklearn/utils/validation.py:598: FutureWarning: np.matrix usage is deprecated in 1.0 and will raise a TypeError in 1.2. Please convert to a numpy array with np.asarray. For more information see: https://numpy.org/doc/stable/reference/generated/numpy.matrix.html\n",
            "  FutureWarning,\n"
          ]
        },
        {
          "output_type": "stream",
          "name": "stdout",
          "text": [
            "evaluate the model:  random_forest_15000_features_n_estimators=200_max_depth=None\n",
            "accuracy score:  0.3\n",
            "balanced accuracy score:  0.2367951126046107\n",
            "weighted precision:  0.2780505594914325\n",
            "weighted recall:  0.3\n",
            "weighted f1 score:  0.2867396948516272\n",
            "macro f1 score:  0.23125860652644273\n",
            "\n"
          ]
        },
        {
          "output_type": "stream",
          "name": "stderr",
          "text": [
            "/usr/local/lib/python3.7/dist-packages/ipykernel_launcher.py:23: FutureWarning: The error_bad_lines argument has been deprecated and will be removed in a future version.\n",
            "\n",
            "\n"
          ]
        },
        {
          "output_type": "stream",
          "name": "stdout",
          "text": [
            "TF-IDF vocabulary size:  20000\n"
          ]
        },
        {
          "output_type": "stream",
          "name": "stderr",
          "text": [
            "/usr/local/lib/python3.7/dist-packages/sklearn/utils/validation.py:598: FutureWarning: np.matrix usage is deprecated in 1.0 and will raise a TypeError in 1.2. Please convert to a numpy array with np.asarray. For more information see: https://numpy.org/doc/stable/reference/generated/numpy.matrix.html\n",
            "  FutureWarning,\n"
          ]
        },
        {
          "output_type": "stream",
          "name": "stdout",
          "text": [
            "evaluate the model:  random_forest_20000_features_n_estimators=200_max_depth=None\n",
            "accuracy score:  0.292\n",
            "balanced accuracy score:  0.23205941237511665\n",
            "weighted precision:  0.270816416577367\n",
            "weighted recall:  0.292\n",
            "weighted f1 score:  0.2796960970064418\n",
            "macro f1 score:  0.2266174917036986\n",
            "\n"
          ]
        },
        {
          "output_type": "stream",
          "name": "stderr",
          "text": [
            "/usr/local/lib/python3.7/dist-packages/ipykernel_launcher.py:23: FutureWarning: The error_bad_lines argument has been deprecated and will be removed in a future version.\n",
            "\n",
            "\n"
          ]
        },
        {
          "output_type": "stream",
          "name": "stdout",
          "text": [
            "TF-IDF vocabulary size:  22546\n"
          ]
        },
        {
          "output_type": "stream",
          "name": "stderr",
          "text": [
            "/usr/local/lib/python3.7/dist-packages/sklearn/utils/validation.py:598: FutureWarning: np.matrix usage is deprecated in 1.0 and will raise a TypeError in 1.2. Please convert to a numpy array with np.asarray. For more information see: https://numpy.org/doc/stable/reference/generated/numpy.matrix.html\n",
            "  FutureWarning,\n"
          ]
        },
        {
          "output_type": "stream",
          "name": "stdout",
          "text": [
            "evaluate the model:  random_forest_22546_features_n_estimators=200_max_depth=None\n",
            "accuracy score:  0.296\n",
            "balanced accuracy score:  0.23324217306948014\n",
            "weighted precision:  0.2772643607281911\n",
            "weighted recall:  0.296\n",
            "weighted f1 score:  0.28532814941549334\n",
            "macro f1 score:  0.22823727835799104\n",
            "\n"
          ]
        },
        {
          "output_type": "stream",
          "name": "stderr",
          "text": [
            "/usr/local/lib/python3.7/dist-packages/ipykernel_launcher.py:23: FutureWarning: The error_bad_lines argument has been deprecated and will be removed in a future version.\n",
            "\n",
            "\n"
          ]
        }
      ]
    },
    {
      "cell_type": "code",
      "source": [
        "# plot the feature importance graph for random forest, n_estimators=200\n",
        "plt.title('Performance of RF vs Feature Numbers')\n",
        "plt.xlabel('Number of Features')\n",
        "plt.ylabel('Score')\n",
        "\n",
        "eval_path = '/content/drive/MyDrive/nlp_datasets/medical-nlp/models/evaluation_rf_3.csv'\n",
        "eval_result = pd.read_csv(eval_path, error_bad_lines=False, engine='python', encoding='utf-8')\n",
        "\n",
        "feature_numbers = eval_result['num_features'].to_list()\n",
        "accuracy_scores = eval_result['accuracy score'].to_list()\n",
        "balanced_accuracy_scores = eval_result['balanced accuracy score'].to_list()\n",
        "weighted_precision = eval_result['weighted precision'].to_list()\n",
        "weighted_recall = eval_result['weighted recall'].to_list()\n",
        "weighted_f1_scores = eval_result['weighted f1 score'].to_list()\n",
        "macro_f1_scores = eval_result['macro f1 score'].to_list()\n",
        "\n",
        "plt.plot(feature_numbers, accuracy_scores, label='accuracy score')\n",
        "plt.plot(feature_numbers, weighted_precision, label='weighted precision')\n",
        "plt.plot(feature_numbers, weighted_recall, label='weighted recall')\n",
        "plt.plot(feature_numbers, weighted_f1_scores, label='weighted f1 score')\n",
        "plt.plot(feature_numbers, macro_f1_scores, label='macro f1 score')\n",
        "plt.legend()\n",
        "plt.grid()\n",
        "\n",
        "plt.figure()\n",
        "plt.xlabel('Number of Features')\n",
        "plt.ylabel('Score')\n",
        "plt.plot(feature_numbers, balanced_accuracy_scores, label='balanced accuracy score')\n",
        "plt.plot(feature_numbers, macro_f1_scores, label='macro f1 score')\n",
        "\n",
        "plt.legend()\n",
        "plt.grid()\n",
        "plt.show()"
      ],
      "metadata": {
        "colab": {
          "base_uri": "https://localhost:8080/",
          "height": 648
        },
        "id": "_MvBjKxTFXF7",
        "outputId": "f5a7233e-4b92-4a5f-abe7-1c5022564642"
      },
      "execution_count": 50,
      "outputs": [
        {
          "output_type": "stream",
          "name": "stderr",
          "text": [
            "/usr/local/lib/python3.7/dist-packages/IPython/core/interactiveshell.py:2882: FutureWarning: The error_bad_lines argument has been deprecated and will be removed in a future version.\n",
            "\n",
            "\n",
            "  exec(code_obj, self.user_global_ns, self.user_ns)\n"
          ]
        },
        {
          "output_type": "display_data",
          "data": {
            "text/plain": [
              "<Figure size 432x288 with 1 Axes>"
            ],
            "image/png": "[encoded data removed]"
          },
          "metadata": {
            "needs_background": "light"
          }
        },
        {
          "output_type": "display_data",
          "data": {
            "text/plain": [
              "<Figure size 432x288 with 1 Axes>"
            ],
            "image/png": "[encoded data removed]"
          },
          "metadata": {
            "needs_background": "light"
          }
        }
      ]
    },
    {
      "cell_type": "code",
      "source": [
        "# test using the given vocabulary\n",
        "fd = open('/content/drive/MyDrive/nlp_datasets/medical-nlp/vocab.txt', 'r')\n",
        "lines = fd.readlines()\n",
        "\n",
        "vocab = {}\n",
        "\n",
        "index = 0\n",
        "\n",
        "for line in lines:\n",
        "  vocab[line.strip()] = index;\n",
        "  index += 1"
      ],
      "metadata": {
        "id": "ty8SO9MCIhUr"
      },
      "execution_count": 6,
      "outputs": []
    },
    {
      "cell_type": "code",
      "source": [
        "len(vocab)"
      ],
      "metadata": {
        "colab": {
          "base_uri": "https://localhost:8080/"
        },
        "id": "7P-jCRh6JSw5",
        "outputId": "1ef45cfc-8f27-4ff7-f37a-f95cbc6e0233"
      },
      "execution_count": 7,
      "outputs": [
        {
          "output_type": "execute_result",
          "data": {
            "text/plain": [
              "69944"
            ]
          },
          "metadata": {},
          "execution_count": 7
        }
      ]
    },
    {
      "cell_type": "code",
      "source": [
        "# max number of tf-idf features: 22546, n_estimators=200, using the given vocabulary\n",
        "rf_tf_idf(feature_numbers=[40], vocabulary=vocab) # usign customized vocubalary, feature_number parameter is ignored"
      ],
      "metadata": {
        "colab": {
          "base_uri": "https://localhost:8080/"
        },
        "id": "Mjo4WJW8JZHo",
        "outputId": "38016b62-cac6-4865-8e2a-b60ab5e9ba4d"
      },
      "execution_count": null,
      "outputs": [
        {
          "output_type": "stream",
          "name": "stderr",
          "text": [
            "/usr/local/lib/python3.7/dist-packages/sklearn/feature_extraction/text.py:1323: UserWarning: Upper case characters found in vocabulary while 'lowercase' is True. These entries will not be matched with any documents\n",
            "  \"Upper case characters found in\"\n"
          ]
        }
      ]
    },
    {
      "cell_type": "code",
      "source": [
        "tv = TfidfVectorizer(max_df=1.0, min_df=0, vocabulary=vocab)\n",
        "    \n",
        "x_train = medical_train['description+text'].tolist()\n",
        "x_test = medical_test['description+text'].tolist()\n",
        "\n",
        "tv.fit(x_train)\n",
        "x_train = tv.transform(x_train).toarray()\n",
        "x_test = tv.transform(x_test).toarray()\n",
        "\n",
        "model = random_foreset_classifier(x_train=x_train, y_train=y_train, num_features=len(vocab), n_estimators=200, max_depth=None, saving=False)\n",
        "evaluate_model(model=model, name='random_forest_{}_features_n_estimators=200_max_depth=None'.format(len(vocab)), x_test=x_test, y_test=y_test, num_features=len(vocab),\n",
        "                path='/content/drive/MyDrive/nlp_datasets/medical-nlp/models', filename='evaluation_rf_custom_vocab.csv')"
      ],
      "metadata": {
        "colab": {
          "base_uri": "https://localhost:8080/"
        },
        "id": "AVk5Q6jZN1PB",
        "outputId": "9904ae0b-4118-4b85-bb04-460f63ff4a96"
      },
      "execution_count": 8,
      "outputs": [
        {
          "output_type": "stream",
          "name": "stderr",
          "text": [
            "/usr/local/lib/python3.7/dist-packages/sklearn/feature_extraction/text.py:1323: UserWarning: Upper case characters found in vocabulary while 'lowercase' is True. These entries will not be matched with any documents\n",
            "  \"Upper case characters found in\"\n",
            "/usr/local/lib/python3.7/dist-packages/sklearn/utils/validation.py:598: FutureWarning: np.matrix usage is deprecated in 1.0 and will raise a TypeError in 1.2. Please convert to a numpy array with np.asarray. For more information see: https://numpy.org/doc/stable/reference/generated/numpy.matrix.html\n",
            "  FutureWarning,\n"
          ]
        },
        {
          "output_type": "stream",
          "name": "stdout",
          "text": [
            "evaluate the model:  random_forest_69944_features_n_estimators=200_max_depth=None\n",
            "accuracy score:  0.252\n",
            "balanced accuracy score:  0.18860203027769135\n",
            "weighted precision:  0.23046966961229198\n",
            "weighted recall:  0.252\n",
            "weighted f1 score:  0.24014076642764778\n",
            "macro f1 score:  0.18168983386230947\n"
          ]
        }
      ]
    }
  ]
}