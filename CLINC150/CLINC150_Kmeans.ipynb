{
  "nbformat": 4,
  "nbformat_minor": 0,
  "metadata": {
    "colab": {
      "name": "CLINC150-Kmeans.ipynb",
      "provenance": []
    },
    "kernelspec": {
      "name": "python3",
      "display_name": "Python 3"
    },
    "language_info": {
      "name": "python"
    }
  },
  "cells": [
    {
      "cell_type": "code",
      "execution_count": 1,
      "metadata": {
        "colab": {
          "base_uri": "https://localhost:8080/"
        },
        "id": "4xoKcZi6v8eI",
        "outputId": "d2138487-693b-4e1f-de15-1cca7c0029d0"
      },
      "outputs": [
        {
          "output_type": "stream",
          "name": "stdout",
          "text": [
            "Mounted at /content/drive\n"
          ]
        }
      ],
      "source": [
        "from google.colab import drive\n",
        "drive.mount('/content/drive')"
      ]
    },
    {
      "cell_type": "code",
      "source": [
        "from intent_classification_helper import *"
      ],
      "metadata": {
        "id": "ixqGaALmwNDv"
      },
      "execution_count": 6,
      "outputs": []
    },
    {
      "cell_type": "code",
      "source": [
        "f = open('/content/drive/MyDrive/nlp_datasets/CLINC150/clinc150_uci/data_full.json')\n",
        "data = json.load(f)\n",
        "\n",
        "train_df = pd.DataFrame.from_dict(data['train'])\n",
        "train_df.columns = ['message', 'intent']\n",
        "\n",
        "val_df = pd.DataFrame.from_dict(data['val'])\n",
        "val_df.columns = ['message', 'intent']\n",
        "\n",
        "test_df = pd.DataFrame.from_dict(data['test'])\n",
        "test_df.columns = ['message', 'intent']\n",
        "\n",
        "print('number of intent classes in training set: ', len(set(train_df['intent'])))\n",
        "print('number of intent classes in val set: ', len(set(val_df['intent'])))\n",
        "print('number of intent classes in test set: ', len(set(test_df['intent'])))"
      ],
      "metadata": {
        "colab": {
          "base_uri": "https://localhost:8080/"
        },
        "id": "wCjGPm3zwVeu",
        "outputId": "2434f2cf-eb4b-46f9-c99a-960db34ffe8a"
      },
      "execution_count": 7,
      "outputs": [
        {
          "output_type": "stream",
          "name": "stdout",
          "text": [
            "number of intent classes in training set:  150\n",
            "number of intent classes in val set:  150\n",
            "number of intent classes in test set:  150\n"
          ]
        }
      ]
    },
    {
      "cell_type": "code",
      "source": [
        "# preprocess text\n",
        "print('Preprocessing text on training set...')\n",
        "preprocess_text(train_df, 'message')\n",
        "\n",
        "print('Preprocessing text on val set...')\n",
        "preprocess_text(val_df, 'message')\n",
        "\n",
        "print('Preprocessing text on test set...')\n",
        "preprocess_text(test_df, 'message')"
      ],
      "metadata": {
        "colab": {
          "base_uri": "https://localhost:8080/"
        },
        "id": "TZEGZc3-wXWc",
        "outputId": "89940f82-d95e-45a0-b3f4-2914016176ef"
      },
      "execution_count": 8,
      "outputs": [
        {
          "output_type": "stream",
          "name": "stdout",
          "text": [
            "Preprocessing text on training set...\n",
            "\n",
            "\n",
            "Start text preprocessing: \n",
            "--------------------------\n",
            "Converting to lowercase...\n",
            "--------------------------\n",
            "Removing html tags...\n",
            "--------------------------\n",
            "Removing nonword characters...\n",
            "--------------------------\n",
            "Removing stopwords...\n"
          ]
        },
        {
          "output_type": "stream",
          "name": "stderr",
          "text": [
            "[nltk_data] Downloading package stopwords to /root/nltk_data...\n",
            "[nltk_data]   Package stopwords is already up-to-date!\n",
            "[nltk_data] Downloading package wordnet to /root/nltk_data...\n",
            "[nltk_data]   Package wordnet is already up-to-date!\n"
          ]
        },
        {
          "output_type": "stream",
          "name": "stdout",
          "text": [
            "Text preprocessing completed.\n",
            "\n",
            "\n",
            "Preprocessing text on val set...\n",
            "\n",
            "\n",
            "Start text preprocessing: \n",
            "--------------------------\n",
            "Converting to lowercase...\n",
            "--------------------------\n",
            "Removing html tags...\n",
            "--------------------------\n",
            "Removing nonword characters...\n",
            "--------------------------\n",
            "Removing stopwords...\n",
            "Text preprocessing completed.\n",
            "\n",
            "\n",
            "Preprocessing text on test set...\n",
            "\n",
            "\n",
            "Start text preprocessing: \n",
            "--------------------------\n",
            "Converting to lowercase...\n",
            "--------------------------\n",
            "Removing html tags...\n",
            "--------------------------\n",
            "Removing nonword characters...\n",
            "--------------------------\n",
            "Removing stopwords...\n"
          ]
        },
        {
          "output_type": "stream",
          "name": "stderr",
          "text": [
            "[nltk_data] Downloading package stopwords to /root/nltk_data...\n",
            "[nltk_data]   Package stopwords is already up-to-date!\n",
            "[nltk_data] Downloading package wordnet to /root/nltk_data...\n",
            "[nltk_data]   Package wordnet is already up-to-date!\n",
            "[nltk_data] Downloading package stopwords to /root/nltk_data...\n",
            "[nltk_data]   Package stopwords is already up-to-date!\n",
            "[nltk_data] Downloading package wordnet to /root/nltk_data...\n",
            "[nltk_data]   Package wordnet is already up-to-date!\n"
          ]
        },
        {
          "output_type": "stream",
          "name": "stdout",
          "text": [
            "Text preprocessing completed.\n",
            "\n",
            "\n"
          ]
        }
      ]
    },
    {
      "cell_type": "code",
      "source": [
        "y_train = train_df['intent'].tolist()\n",
        "y_test = test_df['intent'].tolist()"
      ],
      "metadata": {
        "id": "Auyc_0ZaxOJ1"
      },
      "execution_count": 11,
      "outputs": []
    },
    {
      "cell_type": "code",
      "source": [
        "# the below sections of code is used to find k-means label mapping, there is an issue of duplicate mapping that needs to be revisited"
      ],
      "metadata": {
        "id": "rI-jqXnn7dLA"
      },
      "execution_count": null,
      "outputs": []
    },
    {
      "cell_type": "code",
      "source": [
        "from sklearn.feature_extraction.text import TfidfVectorizer\n",
        "from sklearn.cluster import KMeans\n",
        "\n",
        "tv = TfidfVectorizer(max_df=1.0, min_df=0)\n",
        "    \n",
        "x_train = train_df['message'].tolist()\n",
        "x_test = test_df['message'].tolist()\n",
        "\n",
        "tv.fit(x_train)\n",
        "x_train = tv.transform(x_train).toarray()\n",
        "x_test = tv.transform(x_test).toarray()\n",
        "\n",
        "vocab = tv.get_feature_names_out()\n",
        "\n",
        "print('TF-IDF vocabulary size: ', len(vocab))\n",
        "\n",
        "num_classes = 150\n",
        "kmeans = KMeans(n_clusters=num_classes, random_state=8)\n",
        "kmeans.fit(x_train)"
      ],
      "metadata": {
        "colab": {
          "base_uri": "https://localhost:8080/"
        },
        "id": "NDyTn7dXwdAm",
        "outputId": "22fc3751-c55e-4c05-a20d-b89854b66b4e"
      },
      "execution_count": 13,
      "outputs": [
        {
          "output_type": "stream",
          "name": "stdout",
          "text": [
            "TF-IDF vocabulary size:  4901\n"
          ]
        },
        {
          "output_type": "execute_result",
          "data": {
            "text/plain": [
              "KMeans(n_clusters=150, random_state=8)"
            ]
          },
          "metadata": {},
          "execution_count": 13
        }
      ]
    },
    {
      "cell_type": "code",
      "source": [
        "label_map = {}\n",
        "\n",
        "for i in range(len(y_train)):\n",
        "  key = '{} {}'.format(kmeans.labels_[i], y_train[i])\n",
        "  if key in label_map:\n",
        "    label_map[key] += 1\n",
        "  else:\n",
        "    label_map[key] = 1"
      ],
      "metadata": {
        "id": "d72vD-nuzeTT"
      },
      "execution_count": 14,
      "outputs": []
    },
    {
      "cell_type": "code",
      "source": [
        "lst = sorted(label_map.items())\n",
        "\n",
        "curr_label = ''\n",
        "max_times = 0\n",
        "kmeans_label_map = {}\n",
        "\n",
        "for item in lst:\n",
        "  if item[0].split()[0] != curr_label:\n",
        "    curr_label = item[0].split()[0]\n",
        "    max_times = 0\n",
        "  if item[1] > max_times:\n",
        "    max_times = item[1]\n",
        "    kmeans_label_map[int(curr_label)] = item[0].split()[1]"
      ],
      "metadata": {
        "id": "uQVX-yPlzlct"
      },
      "execution_count": 31,
      "outputs": []
    },
    {
      "cell_type": "code",
      "source": [
        "kmeans_label_map"
      ],
      "metadata": {
        "id": "k7uHPVci29td"
      },
      "execution_count": null,
      "outputs": []
    },
    {
      "cell_type": "code",
      "source": [
        "flipped = {}\n",
        "\n",
        "for key, value in kmeans_label_map.items():\n",
        "  if value in flipped:\n",
        "    flipped[value].append(key) \n",
        "  else:\n",
        "    flipped[value] = [key]"
      ],
      "metadata": {
        "id": "boTJMd7s5O0s"
      },
      "execution_count": 33,
      "outputs": []
    },
    {
      "cell_type": "code",
      "source": [
        "flipped"
      ],
      "metadata": {
        "id": "SXMBrmyZ5m3u"
      },
      "execution_count": null,
      "outputs": []
    },
    {
      "cell_type": "code",
      "source": [
        "def kmeans_tf_idf(feature_numbers=[40, 100, 200, 500, 1000, 2000, 3000, 4000, 5000]):\n",
        "  \n",
        "  # try different number of features\n",
        "  for feature_number in feature_numbers:  \n",
        "    tv = TfidfVectorizer(max_df=1.0, min_df=0, max_features=feature_number)\n",
        "    \n",
        "    x_train = train_df['message'].to_list()\n",
        "    x_test = test_df['message'].to_list()\n",
        "\n",
        "    tv.fit(x_train)\n",
        "    x_train = tv.transform(x_train).toarray()\n",
        "    x_test = tv.transform(x_test).toarray()\n",
        "\n",
        "    vocab = tv.get_feature_names_out()\n",
        "\n",
        "    print('TF-IDF vocabulary size: ', len(vocab))\n",
        "    #print(pd.DataFrame(x_train, columns=vocab))\n",
        "    \n",
        "    num_classes = 150\n",
        "    kmeans = KMeans(n_clusters=num_classes, random_state=8)\n",
        "    kmeans.fit(x_train)\n",
        "\n",
        "    y_true = y_test\n",
        "    prediction = kmeans.predict(x_test)\n",
        "    mapped_prediction = []\n",
        "\n",
        "    for i in range(len(prediction)):\n",
        "      mapped_prediction.append(kmeans_label_map[prediction[i]])\n",
        "\n",
        "    prediction = mapped_prediction\n",
        "\n",
        "    evaluate_model(model=None, name='kmeans_tf-idf_{}'.format(len(vocab)), x_test=x_test, y_test=y_test, num_features=len(vocab), path='/content/drive/MyDrive/nlp_datasets/CLINC150/models',\n",
        "                   filename='evaluation_kmeans.csv', unsupervised=True, prediction=prediction)\n",
        "    \n",
        "    print()\n",
        "    if feature_number < len(vocab):\n",
        "      break"
      ],
      "metadata": {
        "id": "aDM7c5R27sbu"
      },
      "execution_count": 37,
      "outputs": []
    },
    {
      "cell_type": "code",
      "source": [
        "kmeans_tf_idf()"
      ],
      "metadata": {
        "colab": {
          "base_uri": "https://localhost:8080/"
        },
        "id": "jIhK6kTG8Hbm",
        "outputId": "dcf56dd5-62db-48fe-a82c-21029378e932"
      },
      "execution_count": 38,
      "outputs": [
        {
          "output_type": "stream",
          "name": "stdout",
          "text": [
            "TF-IDF vocabulary size:  40\n",
            "evaluate the model:  kmeans_tf-idf_40\n"
          ]
        },
        {
          "output_type": "stream",
          "name": "stderr",
          "text": [
            "/usr/local/lib/python3.7/dist-packages/sklearn/metrics/_classification.py:1318: UndefinedMetricWarning: Precision is ill-defined and being set to 0.0 in labels with no predicted samples. Use `zero_division` parameter to control this behavior.\n",
            "  _warn_prf(average, modifier, msg_start, len(result))\n"
          ]
        },
        {
          "output_type": "stream",
          "name": "stdout",
          "text": [
            "accuracy score:  0.0024444444444444444\n",
            "balanced accuracy score:  0.002444444444444445\n",
            "weighted precision:  0.0010681554012485755\n",
            "weighted recall:  0.0024444444444444444\n",
            "weighted f1 score:  0.0013697125524219694\n",
            "macro f1 score:  0.0013697125524219692\n",
            "\n",
            "TF-IDF vocabulary size:  100\n",
            "evaluate the model:  kmeans_tf-idf_100\n",
            "accuracy score:  0.013555555555555555\n",
            "balanced accuracy score:  0.013555555555555555\n",
            "weighted precision:  0.011146107641928076\n",
            "weighted recall:  0.013555555555555555\n",
            "weighted f1 score:  0.01112310257310279\n",
            "macro f1 score:  0.01112310257310279\n"
          ]
        },
        {
          "output_type": "stream",
          "name": "stderr",
          "text": [
            "/usr/local/lib/python3.7/dist-packages/sklearn/metrics/_classification.py:1318: UndefinedMetricWarning: Precision is ill-defined and being set to 0.0 in labels with no predicted samples. Use `zero_division` parameter to control this behavior.\n",
            "  _warn_prf(average, modifier, msg_start, len(result))\n",
            "/usr/local/lib/python3.7/dist-packages/ipykernel_launcher.py:33: FutureWarning: The error_bad_lines argument has been deprecated and will be removed in a future version.\n",
            "\n",
            "\n"
          ]
        },
        {
          "output_type": "stream",
          "name": "stdout",
          "text": [
            "\n",
            "TF-IDF vocabulary size:  200\n",
            "evaluate the model:  kmeans_tf-idf_200\n",
            "accuracy score:  0.002\n",
            "balanced accuracy score:  0.0020000000000000005\n",
            "weighted precision:  0.0034245515956207776\n",
            "weighted recall:  0.002\n",
            "weighted f1 score:  0.002047582141431222\n",
            "macro f1 score:  0.002047582141431222\n",
            "\n"
          ]
        },
        {
          "output_type": "stream",
          "name": "stderr",
          "text": [
            "/usr/local/lib/python3.7/dist-packages/sklearn/metrics/_classification.py:1318: UndefinedMetricWarning: Precision is ill-defined and being set to 0.0 in labels with no predicted samples. Use `zero_division` parameter to control this behavior.\n",
            "  _warn_prf(average, modifier, msg_start, len(result))\n",
            "/usr/local/lib/python3.7/dist-packages/ipykernel_launcher.py:33: FutureWarning: The error_bad_lines argument has been deprecated and will be removed in a future version.\n",
            "\n",
            "\n"
          ]
        },
        {
          "output_type": "stream",
          "name": "stdout",
          "text": [
            "TF-IDF vocabulary size:  500\n",
            "evaluate the model:  kmeans_tf-idf_500\n",
            "accuracy score:  0.01711111111111111\n",
            "balanced accuracy score:  0.01711111111111111\n",
            "weighted precision:  0.016453204847422978\n",
            "weighted recall:  0.01711111111111111\n",
            "weighted f1 score:  0.01563734187371577\n",
            "macro f1 score:  0.01563734187371577\n",
            "\n"
          ]
        },
        {
          "output_type": "stream",
          "name": "stderr",
          "text": [
            "/usr/local/lib/python3.7/dist-packages/sklearn/metrics/_classification.py:1318: UndefinedMetricWarning: Precision is ill-defined and being set to 0.0 in labels with no predicted samples. Use `zero_division` parameter to control this behavior.\n",
            "  _warn_prf(average, modifier, msg_start, len(result))\n",
            "/usr/local/lib/python3.7/dist-packages/ipykernel_launcher.py:33: FutureWarning: The error_bad_lines argument has been deprecated and will be removed in a future version.\n",
            "\n",
            "\n"
          ]
        },
        {
          "output_type": "stream",
          "name": "stdout",
          "text": [
            "TF-IDF vocabulary size:  1000\n",
            "evaluate the model:  kmeans_tf-idf_1000\n",
            "accuracy score:  0.0008888888888888889\n",
            "balanced accuracy score:  0.0008888888888888888\n",
            "weighted precision:  0.0006819956968294564\n",
            "weighted recall:  0.0008888888888888889\n",
            "weighted f1 score:  0.0007284696854700295\n",
            "macro f1 score:  0.0007284696854700294\n",
            "\n"
          ]
        },
        {
          "output_type": "stream",
          "name": "stderr",
          "text": [
            "/usr/local/lib/python3.7/dist-packages/sklearn/metrics/_classification.py:1318: UndefinedMetricWarning: Precision is ill-defined and being set to 0.0 in labels with no predicted samples. Use `zero_division` parameter to control this behavior.\n",
            "  _warn_prf(average, modifier, msg_start, len(result))\n",
            "/usr/local/lib/python3.7/dist-packages/ipykernel_launcher.py:33: FutureWarning: The error_bad_lines argument has been deprecated and will be removed in a future version.\n",
            "\n",
            "\n"
          ]
        },
        {
          "output_type": "stream",
          "name": "stdout",
          "text": [
            "TF-IDF vocabulary size:  2000\n",
            "evaluate the model:  kmeans_tf-idf_2000\n",
            "accuracy score:  0.007555555555555556\n",
            "balanced accuracy score:  0.007555555555555555\n",
            "weighted precision:  0.006171507927941731\n",
            "weighted recall:  0.007555555555555556\n",
            "weighted f1 score:  0.006507683212652525\n",
            "macro f1 score:  0.006507683212652526\n",
            "\n"
          ]
        },
        {
          "output_type": "stream",
          "name": "stderr",
          "text": [
            "/usr/local/lib/python3.7/dist-packages/sklearn/metrics/_classification.py:1318: UndefinedMetricWarning: Precision is ill-defined and being set to 0.0 in labels with no predicted samples. Use `zero_division` parameter to control this behavior.\n",
            "  _warn_prf(average, modifier, msg_start, len(result))\n",
            "/usr/local/lib/python3.7/dist-packages/ipykernel_launcher.py:33: FutureWarning: The error_bad_lines argument has been deprecated and will be removed in a future version.\n",
            "\n",
            "\n"
          ]
        },
        {
          "output_type": "stream",
          "name": "stdout",
          "text": [
            "TF-IDF vocabulary size:  3000\n",
            "evaluate the model:  kmeans_tf-idf_3000\n",
            "accuracy score:  0.010222222222222223\n",
            "balanced accuracy score:  0.010222222222222221\n",
            "weighted precision:  0.008506154332682692\n",
            "weighted recall:  0.010222222222222223\n",
            "weighted f1 score:  0.008244143041755156\n",
            "macro f1 score:  0.008244143041755156\n",
            "\n"
          ]
        },
        {
          "output_type": "stream",
          "name": "stderr",
          "text": [
            "/usr/local/lib/python3.7/dist-packages/sklearn/metrics/_classification.py:1318: UndefinedMetricWarning: Precision is ill-defined and being set to 0.0 in labels with no predicted samples. Use `zero_division` parameter to control this behavior.\n",
            "  _warn_prf(average, modifier, msg_start, len(result))\n",
            "/usr/local/lib/python3.7/dist-packages/ipykernel_launcher.py:33: FutureWarning: The error_bad_lines argument has been deprecated and will be removed in a future version.\n",
            "\n",
            "\n"
          ]
        },
        {
          "output_type": "stream",
          "name": "stdout",
          "text": [
            "TF-IDF vocabulary size:  4000\n",
            "evaluate the model:  kmeans_tf-idf_4000\n",
            "accuracy score:  0.008222222222222223\n",
            "balanced accuracy score:  0.008222222222222221\n",
            "weighted precision:  0.0021713660835359187\n",
            "weighted recall:  0.008222222222222223\n",
            "weighted f1 score:  0.0026652628936435006\n",
            "macro f1 score:  0.0026652628936435006\n",
            "\n"
          ]
        },
        {
          "output_type": "stream",
          "name": "stderr",
          "text": [
            "/usr/local/lib/python3.7/dist-packages/sklearn/metrics/_classification.py:1318: UndefinedMetricWarning: Precision is ill-defined and being set to 0.0 in labels with no predicted samples. Use `zero_division` parameter to control this behavior.\n",
            "  _warn_prf(average, modifier, msg_start, len(result))\n",
            "/usr/local/lib/python3.7/dist-packages/ipykernel_launcher.py:33: FutureWarning: The error_bad_lines argument has been deprecated and will be removed in a future version.\n",
            "\n",
            "\n"
          ]
        },
        {
          "output_type": "stream",
          "name": "stdout",
          "text": [
            "TF-IDF vocabulary size:  4901\n",
            "evaluate the model:  kmeans_tf-idf_4901\n",
            "accuracy score:  0.4568888888888889\n",
            "balanced accuracy score:  0.4568888888888889\n",
            "weighted precision:  0.5021075182083271\n",
            "weighted recall:  0.4568888888888889\n",
            "weighted f1 score:  0.4475438001477565\n",
            "macro f1 score:  0.4475438001477564\n",
            "\n"
          ]
        },
        {
          "output_type": "stream",
          "name": "stderr",
          "text": [
            "/usr/local/lib/python3.7/dist-packages/sklearn/metrics/_classification.py:1318: UndefinedMetricWarning: Precision is ill-defined and being set to 0.0 in labels with no predicted samples. Use `zero_division` parameter to control this behavior.\n",
            "  _warn_prf(average, modifier, msg_start, len(result))\n",
            "/usr/local/lib/python3.7/dist-packages/ipykernel_launcher.py:33: FutureWarning: The error_bad_lines argument has been deprecated and will be removed in a future version.\n",
            "\n",
            "\n"
          ]
        }
      ]
    },
    {
      "cell_type": "code",
      "source": [
        "# plot the feature importance graph for random forest\n",
        "plt.title('Performance of K-means vs Feature Numbers')\n",
        "plt.xlabel('Number of Features')\n",
        "plt.ylabel('Score')\n",
        "\n",
        "eval_path = '/content/drive/MyDrive/nlp_datasets/CLINC150/models/evaluation_kmeans.csv'\n",
        "eval_result = pd.read_csv(eval_path, error_bad_lines=False, engine='python', encoding='utf-8')\n",
        "\n",
        "feature_numbers = eval_result['num_features'].to_list()\n",
        "accuracy_scores = eval_result['accuracy score'].to_list()\n",
        "balanced_accuracy_scores = eval_result['balanced accuracy score'].to_list()\n",
        "weighted_precision = eval_result['weighted precision'].to_list()\n",
        "weighted_recall = eval_result['weighted recall'].to_list()\n",
        "weighted_f1_scores = eval_result['weighted f1 score'].to_list()\n",
        "macro_f1_scores = eval_result['macro f1 score'].to_list()\n",
        "\n",
        "plt.plot(feature_numbers, accuracy_scores, label='accuracy score')\n",
        "plt.plot(feature_numbers, weighted_precision, label='weighted precision')\n",
        "plt.plot(feature_numbers, weighted_recall, label='weighted recall')\n",
        "plt.plot(feature_numbers, weighted_f1_scores, label='weighted f1 score')\n",
        "plt.plot(feature_numbers, macro_f1_scores, label='macro f1 score')\n",
        "plt.legend()\n",
        "plt.grid()\n",
        "\n",
        "plt.figure()\n",
        "plt.xlabel('Number of Features')\n",
        "plt.ylabel('Score')\n",
        "plt.plot(feature_numbers, balanced_accuracy_scores, label='balanced accuracy score')\n",
        "plt.plot(feature_numbers, macro_f1_scores, label='macro f1 score')\n",
        "\n",
        "plt.legend()\n",
        "plt.grid()\n",
        "plt.show()"
      ],
      "metadata": {
        "colab": {
          "base_uri": "https://localhost:8080/",
          "height": 648
        },
        "id": "OlBwaYn0C3v-",
        "outputId": "fc292ada-cbb0-433e-a58b-68e59ed0774b"
      },
      "execution_count": 39,
      "outputs": [
        {
          "output_type": "stream",
          "name": "stderr",
          "text": [
            "/usr/local/lib/python3.7/dist-packages/IPython/core/interactiveshell.py:2882: FutureWarning: The error_bad_lines argument has been deprecated and will be removed in a future version.\n",
            "\n",
            "\n",
            "  exec(code_obj, self.user_global_ns, self.user_ns)\n"
          ]
        },
        {
          "output_type": "display_data",
          "data": {
            "text/plain": [
              "<Figure size 432x288 with 1 Axes>"
            ],
            "image/png": "[encoded data removed]"
          },
          "metadata": {
            "needs_background": "light"
          }
        },
        {
          "output_type": "display_data",
          "data": {
            "text/plain": [
              "<Figure size 432x288 with 1 Axes>"
            ],
            "image/png": "[encoded data removed]"
          },
          "metadata": {
            "needs_background": "light"
          }
        }
      ]
    }
  ]
}