{
  "nbformat": 4,
  "nbformat_minor": 0,
  "metadata": {
    "colab": {
      "name": "CLINC150-RF.ipynb",
      "provenance": []
    },
    "kernelspec": {
      "name": "python3",
      "display_name": "Python 3"
    },
    "language_info": {
      "name": "python"
    }
  },
  "cells": [
    {
      "cell_type": "code",
      "execution_count": 1,
      "metadata": {
        "colab": {
          "base_uri": "https://localhost:8080/"
        },
        "id": "nKHvHedMbquI",
        "outputId": "c80d88f3-eabf-421e-84b8-4ca73b58abc2"
      },
      "outputs": [
        {
          "output_type": "stream",
          "name": "stdout",
          "text": [
            "Mounted at /content/drive\n"
          ]
        }
      ],
      "source": [
        "from google.colab import drive\n",
        "drive.mount('/content/drive')"
      ]
    },
    {
      "cell_type": "code",
      "source": [
        "from intent_classification_helper import *"
      ],
      "metadata": {
        "id": "3CVi0AO6cBVC"
      },
      "execution_count": 1,
      "outputs": []
    },
    {
      "cell_type": "code",
      "source": [
        "f = open('/content/drive/MyDrive/nlp_datasets/CLINC150/clinc150_uci/data_full.json')\n",
        "data = json.load(f)\n",
        "\n",
        "train_df = pd.DataFrame.from_dict(data['train'])\n",
        "train_df.columns = ['message', 'intent']\n",
        "\n",
        "val_df = pd.DataFrame.from_dict(data['val'])\n",
        "val_df.columns = ['message', 'intent']\n",
        "\n",
        "test_df = pd.DataFrame.from_dict(data['test'])\n",
        "test_df.columns = ['message', 'intent']\n",
        "\n",
        "print('number of intent classes in training set: ', len(set(train_df['intent'])))\n",
        "print('number of intent classes in val set: ', len(set(val_df['intent'])))\n",
        "print('number of intent classes in test set: ', len(set(test_df['intent'])))"
      ],
      "metadata": {
        "colab": {
          "base_uri": "https://localhost:8080/"
        },
        "id": "a1wGWUlacFH_",
        "outputId": "6eab1abc-a55f-468e-c1a7-043bff063876"
      },
      "execution_count": 2,
      "outputs": [
        {
          "output_type": "stream",
          "name": "stdout",
          "text": [
            "number of intent classes in training set:  150\n",
            "number of intent classes in val set:  150\n",
            "number of intent classes in test set:  150\n"
          ]
        }
      ]
    },
    {
      "cell_type": "code",
      "source": [
        "# encode label\n",
        "le = LabelEncoder()\n",
        "train_df['intent'] = le.fit_transform(train_df['intent'])\n",
        "val_df['intent'] = le.fit_transform(val_df['intent'])\n",
        "test_df['intent'] = le.fit_transform(test_df['intent'])\n",
        "\n",
        "onehot_encoder = OneHotEncoder()\n",
        "y_train = onehot_encoder.fit_transform(train_df['intent'].values.reshape(-1, 1)).todense()\n",
        "y_val = onehot_encoder.fit_transform(val_df['intent'].values.reshape(-1, 1)).todense()\n",
        "y_test = onehot_encoder.fit_transform(test_df['intent'].values.reshape(-1, 1)).todense()\n",
        "\n",
        "# preprocess text\n",
        "print('Preprocessing text on training set...')\n",
        "preprocess_text(train_df, 'message')\n",
        "\n",
        "print('Preprocessing text on val set...')\n",
        "preprocess_text(val_df, 'message')\n",
        "\n",
        "print('Preprocessing text on test set...')\n",
        "preprocess_text(test_df, 'message')\n",
        "\n",
        "# x_train = train_df['message'].to_list()\n",
        "# x_val = val_df['message'].to_list()\n",
        "# x_test = test_df['message'].to_list()"
      ],
      "metadata": {
        "colab": {
          "base_uri": "https://localhost:8080/"
        },
        "id": "bH-b_IoTcHWj",
        "outputId": "ee6037ff-79b4-436c-d4bd-25a970d1bc3f"
      },
      "execution_count": 3,
      "outputs": [
        {
          "output_type": "stream",
          "name": "stdout",
          "text": [
            "Preprocessing text on training set...\n",
            "\n",
            "\n",
            "Start text preprocessing: \n",
            "--------------------------\n",
            "Converting to lowercase...\n",
            "--------------------------\n",
            "Removing html tags...\n",
            "--------------------------\n",
            "Removing nonword characters...\n",
            "--------------------------\n",
            "Removing stopwords...\n"
          ]
        },
        {
          "output_type": "stream",
          "name": "stderr",
          "text": [
            "[nltk_data] Downloading package stopwords to /root/nltk_data...\n",
            "[nltk_data]   Package stopwords is already up-to-date!\n",
            "[nltk_data] Downloading package wordnet to /root/nltk_data...\n",
            "[nltk_data]   Package wordnet is already up-to-date!\n"
          ]
        },
        {
          "output_type": "stream",
          "name": "stdout",
          "text": [
            "Text preprocessing completed.\n",
            "\n",
            "\n",
            "Preprocessing text on val set...\n",
            "\n",
            "\n",
            "Start text preprocessing: \n",
            "--------------------------\n",
            "Converting to lowercase...\n",
            "--------------------------\n",
            "Removing html tags...\n",
            "--------------------------\n",
            "Removing nonword characters...\n",
            "--------------------------\n",
            "Removing stopwords...\n",
            "Text preprocessing completed.\n",
            "\n",
            "\n",
            "Preprocessing text on test set...\n",
            "\n",
            "\n",
            "Start text preprocessing: \n",
            "--------------------------\n",
            "Converting to lowercase...\n",
            "--------------------------\n",
            "Removing html tags...\n",
            "--------------------------\n",
            "Removing nonword characters...\n",
            "--------------------------\n",
            "Removing stopwords...\n"
          ]
        },
        {
          "output_type": "stream",
          "name": "stderr",
          "text": [
            "[nltk_data] Downloading package stopwords to /root/nltk_data...\n",
            "[nltk_data]   Package stopwords is already up-to-date!\n",
            "[nltk_data] Downloading package wordnet to /root/nltk_data...\n",
            "[nltk_data]   Package wordnet is already up-to-date!\n",
            "[nltk_data] Downloading package stopwords to /root/nltk_data...\n",
            "[nltk_data]   Package stopwords is already up-to-date!\n",
            "[nltk_data] Downloading package wordnet to /root/nltk_data...\n",
            "[nltk_data]   Package wordnet is already up-to-date!\n"
          ]
        },
        {
          "output_type": "stream",
          "name": "stdout",
          "text": [
            "Text preprocessing completed.\n",
            "\n",
            "\n"
          ]
        }
      ]
    },
    {
      "cell_type": "code",
      "source": [
        "from sklearn.feature_extraction.text import TfidfVectorizer\n",
        "\n",
        "def rf_tf_idf(feature_numbers=[40, 100, 200, 500, 1000, 2000, 3000, 4000, 5000]):\n",
        "  \n",
        "  # try different number of features\n",
        "  for feature_number in feature_numbers:  \n",
        "    tv = TfidfVectorizer(max_df=1.0, min_df=0, max_features=feature_number)\n",
        "    \n",
        "    x_train = train_df['message'].to_list()\n",
        "    x_test = test_df['message'].to_list()\n",
        "\n",
        "    tv.fit(x_train)\n",
        "    x_train = tv.transform(x_train).toarray()\n",
        "    x_test = tv.transform(x_test).toarray()\n",
        "\n",
        "    vocab = tv.get_feature_names_out()\n",
        "\n",
        "    print('TF-IDF vocabulary size: ', len(vocab))\n",
        "    #print(pd.DataFrame(x_train, columns=vocab))\n",
        "    \n",
        "    model = random_foreset_classifier(x_train=x_train, y_train=y_train, num_features=len(vocab), n_estimators=150, max_depth=None, saving=False)\n",
        "    evaluate_model(model=model, name='random_forest_{}_features_n_estimators=150_max_depth=None'.format(len(vocab)), x_test=x_test, y_test=y_test, num_features=len(vocab),\n",
        "                   path='/content/drive/MyDrive/nlp_datasets/CLINC150/models', filename='evaluation_rf_updated.csv')\n",
        "\n",
        "    print()\n",
        "    if feature_number < len(vocab):\n",
        "      break"
      ],
      "metadata": {
        "id": "EhgJgAjgcPMa"
      },
      "execution_count": 4,
      "outputs": []
    },
    {
      "cell_type": "code",
      "source": [
        "rf_tf_idf()"
      ],
      "metadata": {
        "colab": {
          "base_uri": "https://localhost:8080/"
        },
        "id": "wGsHP-jZdCOn",
        "outputId": "37ad3f9d-c5b5-48f2-b85d-d15ffc55c498"
      },
      "execution_count": null,
      "outputs": [
        {
          "output_type": "stream",
          "name": "stdout",
          "text": [
            "TF-IDF vocabulary size:  40\n"
          ]
        },
        {
          "output_type": "stream",
          "name": "stderr",
          "text": [
            "/usr/local/lib/python3.7/dist-packages/sklearn/utils/validation.py:598: FutureWarning: np.matrix usage is deprecated in 1.0 and will raise a TypeError in 1.2. Please convert to a numpy array with np.asarray. For more information see: https://numpy.org/doc/stable/reference/generated/numpy.matrix.html\n",
            "  FutureWarning,\n"
          ]
        },
        {
          "output_type": "stream",
          "name": "stdout",
          "text": [
            "evaluate the model:  random_forest_40_features_n_estimators=150_max_depth=None\n"
          ]
        },
        {
          "output_type": "stream",
          "name": "stderr",
          "text": [
            "/usr/local/lib/python3.7/dist-packages/sklearn/metrics/_classification.py:1318: UndefinedMetricWarning: Precision is ill-defined and being set to 0.0 in labels with no predicted samples. Use `zero_division` parameter to control this behavior.\n",
            "  _warn_prf(average, modifier, msg_start, len(result))\n"
          ]
        },
        {
          "output_type": "stream",
          "name": "stdout",
          "text": [
            "accuracy score:  0.11666666666666667\n",
            "balanced accuracy score:  0.11666666666666667\n",
            "weighted precision:  0.3227095680595003\n",
            "weighted recall:  0.11666666666666667\n",
            "weighted f1 score:  0.14433465966503795\n",
            "macro f1 score:  0.14433465966503795\n",
            "\n",
            "TF-IDF vocabulary size:  100\n"
          ]
        },
        {
          "output_type": "stream",
          "name": "stderr",
          "text": [
            "/usr/local/lib/python3.7/dist-packages/sklearn/utils/validation.py:598: FutureWarning: np.matrix usage is deprecated in 1.0 and will raise a TypeError in 1.2. Please convert to a numpy array with np.asarray. For more information see: https://numpy.org/doc/stable/reference/generated/numpy.matrix.html\n",
            "  FutureWarning,\n"
          ]
        },
        {
          "output_type": "stream",
          "name": "stdout",
          "text": [
            "evaluate the model:  random_forest_100_features_n_estimators=150_max_depth=None\n"
          ]
        },
        {
          "output_type": "stream",
          "name": "stderr",
          "text": [
            "/usr/local/lib/python3.7/dist-packages/sklearn/metrics/_classification.py:1318: UndefinedMetricWarning: Precision is ill-defined and being set to 0.0 in labels with no predicted samples. Use `zero_division` parameter to control this behavior.\n",
            "  _warn_prf(average, modifier, msg_start, len(result))\n",
            "/usr/local/lib/python3.7/dist-packages/ipykernel_launcher.py:23: FutureWarning: The error_bad_lines argument has been deprecated and will be removed in a future version.\n",
            "\n",
            "\n"
          ]
        },
        {
          "output_type": "stream",
          "name": "stdout",
          "text": [
            "accuracy score:  0.32266666666666666\n",
            "balanced accuracy score:  0.32266666666666666\n",
            "weighted precision:  0.5562922962991135\n",
            "weighted recall:  0.32266666666666666\n",
            "weighted f1 score:  0.36800255443588753\n",
            "macro f1 score:  0.36800255443588753\n",
            "\n",
            "TF-IDF vocabulary size:  200\n"
          ]
        },
        {
          "output_type": "stream",
          "name": "stderr",
          "text": [
            "/usr/local/lib/python3.7/dist-packages/sklearn/utils/validation.py:598: FutureWarning: np.matrix usage is deprecated in 1.0 and will raise a TypeError in 1.2. Please convert to a numpy array with np.asarray. For more information see: https://numpy.org/doc/stable/reference/generated/numpy.matrix.html\n",
            "  FutureWarning,\n"
          ]
        },
        {
          "output_type": "stream",
          "name": "stdout",
          "text": [
            "evaluate the model:  random_forest_200_features_n_estimators=150_max_depth=None\n"
          ]
        },
        {
          "output_type": "stream",
          "name": "stderr",
          "text": [
            "/usr/local/lib/python3.7/dist-packages/sklearn/metrics/_classification.py:1318: UndefinedMetricWarning: Precision is ill-defined and being set to 0.0 in labels with no predicted samples. Use `zero_division` parameter to control this behavior.\n",
            "  _warn_prf(average, modifier, msg_start, len(result))\n",
            "/usr/local/lib/python3.7/dist-packages/ipykernel_launcher.py:23: FutureWarning: The error_bad_lines argument has been deprecated and will be removed in a future version.\n",
            "\n",
            "\n"
          ]
        },
        {
          "output_type": "stream",
          "name": "stdout",
          "text": [
            "accuracy score:  0.528\n",
            "balanced accuracy score:  0.528\n",
            "weighted precision:  0.7681468909518516\n",
            "weighted recall:  0.528\n",
            "weighted f1 score:  0.5864882806709296\n",
            "macro f1 score:  0.5864882806709297\n",
            "\n",
            "TF-IDF vocabulary size:  500\n"
          ]
        },
        {
          "output_type": "stream",
          "name": "stderr",
          "text": [
            "/usr/local/lib/python3.7/dist-packages/sklearn/utils/validation.py:598: FutureWarning: np.matrix usage is deprecated in 1.0 and will raise a TypeError in 1.2. Please convert to a numpy array with np.asarray. For more information see: https://numpy.org/doc/stable/reference/generated/numpy.matrix.html\n",
            "  FutureWarning,\n"
          ]
        },
        {
          "output_type": "stream",
          "name": "stdout",
          "text": [
            "evaluate the model:  random_forest_500_features_n_estimators=150_max_depth=None\n",
            "accuracy score:  0.6826666666666666\n",
            "balanced accuracy score:  0.6826666666666668\n",
            "weighted precision:  0.8712122449628767\n",
            "weighted recall:  0.6826666666666666\n",
            "weighted f1 score:  0.7477274953623206\n",
            "macro f1 score:  0.7477274953623206\n",
            "\n"
          ]
        },
        {
          "output_type": "stream",
          "name": "stderr",
          "text": [
            "/usr/local/lib/python3.7/dist-packages/ipykernel_launcher.py:23: FutureWarning: The error_bad_lines argument has been deprecated and will be removed in a future version.\n",
            "\n",
            "\n"
          ]
        },
        {
          "output_type": "stream",
          "name": "stdout",
          "text": [
            "TF-IDF vocabulary size:  1000\n"
          ]
        },
        {
          "output_type": "stream",
          "name": "stderr",
          "text": [
            "/usr/local/lib/python3.7/dist-packages/sklearn/utils/validation.py:598: FutureWarning: np.matrix usage is deprecated in 1.0 and will raise a TypeError in 1.2. Please convert to a numpy array with np.asarray. For more information see: https://numpy.org/doc/stable/reference/generated/numpy.matrix.html\n",
            "  FutureWarning,\n"
          ]
        },
        {
          "output_type": "stream",
          "name": "stdout",
          "text": [
            "evaluate the model:  random_forest_1000_features_n_estimators=150_max_depth=None\n",
            "accuracy score:  0.7364444444444445\n",
            "balanced accuracy score:  0.7364444444444445\n",
            "weighted precision:  0.8959184959323546\n",
            "weighted recall:  0.7364444444444445\n",
            "weighted f1 score:  0.7950146257575829\n",
            "macro f1 score:  0.795014625757583\n",
            "\n"
          ]
        },
        {
          "output_type": "stream",
          "name": "stderr",
          "text": [
            "/usr/local/lib/python3.7/dist-packages/ipykernel_launcher.py:23: FutureWarning: The error_bad_lines argument has been deprecated and will be removed in a future version.\n",
            "\n",
            "\n"
          ]
        },
        {
          "output_type": "stream",
          "name": "stdout",
          "text": [
            "TF-IDF vocabulary size:  2000\n"
          ]
        },
        {
          "output_type": "stream",
          "name": "stderr",
          "text": [
            "/usr/local/lib/python3.7/dist-packages/sklearn/utils/validation.py:598: FutureWarning: np.matrix usage is deprecated in 1.0 and will raise a TypeError in 1.2. Please convert to a numpy array with np.asarray. For more information see: https://numpy.org/doc/stable/reference/generated/numpy.matrix.html\n",
            "  FutureWarning,\n"
          ]
        },
        {
          "output_type": "stream",
          "name": "stdout",
          "text": [
            "evaluate the model:  random_forest_2000_features_n_estimators=150_max_depth=None\n",
            "accuracy score:  0.7422222222222222\n",
            "balanced accuracy score:  0.7422222222222223\n",
            "weighted precision:  0.9066210703582009\n",
            "weighted recall:  0.7422222222222222\n",
            "weighted f1 score:  0.802266191899287\n",
            "macro f1 score:  0.802266191899287\n",
            "\n"
          ]
        },
        {
          "output_type": "stream",
          "name": "stderr",
          "text": [
            "/usr/local/lib/python3.7/dist-packages/ipykernel_launcher.py:23: FutureWarning: The error_bad_lines argument has been deprecated and will be removed in a future version.\n",
            "\n",
            "\n"
          ]
        },
        {
          "output_type": "stream",
          "name": "stdout",
          "text": [
            "TF-IDF vocabulary size:  3000\n"
          ]
        },
        {
          "output_type": "stream",
          "name": "stderr",
          "text": [
            "/usr/local/lib/python3.7/dist-packages/sklearn/utils/validation.py:598: FutureWarning: np.matrix usage is deprecated in 1.0 and will raise a TypeError in 1.2. Please convert to a numpy array with np.asarray. For more information see: https://numpy.org/doc/stable/reference/generated/numpy.matrix.html\n",
            "  FutureWarning,\n"
          ]
        },
        {
          "output_type": "stream",
          "name": "stdout",
          "text": [
            "evaluate the model:  random_forest_3000_features_n_estimators=150_max_depth=None\n",
            "accuracy score:  0.7428888888888889\n",
            "balanced accuracy score:  0.7428888888888889\n",
            "weighted precision:  0.9140451172247893\n",
            "weighted recall:  0.7428888888888889\n",
            "weighted f1 score:  0.8050647397452805\n",
            "macro f1 score:  0.8050647397452804\n",
            "\n"
          ]
        },
        {
          "output_type": "stream",
          "name": "stderr",
          "text": [
            "/usr/local/lib/python3.7/dist-packages/ipykernel_launcher.py:23: FutureWarning: The error_bad_lines argument has been deprecated and will be removed in a future version.\n",
            "\n",
            "\n"
          ]
        },
        {
          "output_type": "stream",
          "name": "stdout",
          "text": [
            "TF-IDF vocabulary size:  4000\n"
          ]
        },
        {
          "output_type": "stream",
          "name": "stderr",
          "text": [
            "/usr/local/lib/python3.7/dist-packages/sklearn/utils/validation.py:598: FutureWarning: np.matrix usage is deprecated in 1.0 and will raise a TypeError in 1.2. Please convert to a numpy array with np.asarray. For more information see: https://numpy.org/doc/stable/reference/generated/numpy.matrix.html\n",
            "  FutureWarning,\n"
          ]
        },
        {
          "output_type": "stream",
          "name": "stdout",
          "text": [
            "evaluate the model:  random_forest_4000_features_n_estimators=150_max_depth=None\n",
            "accuracy score:  0.7386666666666667\n",
            "balanced accuracy score:  0.7386666666666667\n",
            "weighted precision:  0.9190618901194159\n",
            "weighted recall:  0.7386666666666667\n",
            "weighted f1 score:  0.8042765181764662\n",
            "macro f1 score:  0.8042765181764662\n",
            "\n"
          ]
        },
        {
          "output_type": "stream",
          "name": "stderr",
          "text": [
            "/usr/local/lib/python3.7/dist-packages/ipykernel_launcher.py:23: FutureWarning: The error_bad_lines argument has been deprecated and will be removed in a future version.\n",
            "\n",
            "\n"
          ]
        },
        {
          "output_type": "stream",
          "name": "stdout",
          "text": [
            "TF-IDF vocabulary size:  4901\n"
          ]
        },
        {
          "output_type": "stream",
          "name": "stderr",
          "text": [
            "/usr/local/lib/python3.7/dist-packages/sklearn/utils/validation.py:598: FutureWarning: np.matrix usage is deprecated in 1.0 and will raise a TypeError in 1.2. Please convert to a numpy array with np.asarray. For more information see: https://numpy.org/doc/stable/reference/generated/numpy.matrix.html\n",
            "  FutureWarning,\n"
          ]
        }
      ]
    },
    {
      "cell_type": "code",
      "source": [
        "rf_tf_idf(feature_numbers=[5000])"
      ],
      "metadata": {
        "colab": {
          "base_uri": "https://localhost:8080/"
        },
        "id": "claHnD-cjGC6",
        "outputId": "d13929e5-f461-419e-e9a8-0444c1b5a924"
      },
      "execution_count": 5,
      "outputs": [
        {
          "output_type": "stream",
          "name": "stdout",
          "text": [
            "TF-IDF vocabulary size:  4901\n"
          ]
        },
        {
          "output_type": "stream",
          "name": "stderr",
          "text": [
            "/usr/local/lib/python3.7/dist-packages/sklearn/utils/validation.py:598: FutureWarning: np.matrix usage is deprecated in 1.0 and will raise a TypeError in 1.2. Please convert to a numpy array with np.asarray. For more information see: https://numpy.org/doc/stable/reference/generated/numpy.matrix.html\n",
            "  FutureWarning,\n"
          ]
        },
        {
          "output_type": "stream",
          "name": "stdout",
          "text": [
            "evaluate the model:  random_forest_4901_features_n_estimators=150_max_depth=None\n",
            "accuracy score:  0.7373333333333333\n",
            "balanced accuracy score:  0.7373333333333334\n",
            "weighted precision:  0.9180759695742583\n",
            "weighted recall:  0.7373333333333333\n",
            "weighted f1 score:  0.8030021000943652\n",
            "macro f1 score:  0.8030021000943652\n",
            "\n"
          ]
        },
        {
          "output_type": "stream",
          "name": "stderr",
          "text": [
            "/usr/local/lib/python3.7/dist-packages/ipykernel_launcher.py:23: FutureWarning: The error_bad_lines argument has been deprecated and will be removed in a future version.\n",
            "\n",
            "\n"
          ]
        }
      ]
    },
    {
      "cell_type": "code",
      "source": [
        "# plot the feature importance graph for random forest\n",
        "plt.title('Performance of RF vs Feature Numbers')\n",
        "plt.xlabel('Number of Features')\n",
        "plt.ylabel('Score')\n",
        "\n",
        "eval_path = '/content/drive/MyDrive/nlp_datasets/CLINC150/models/evaluation_rf_updated.csv'\n",
        "eval_result = pd.read_csv(eval_path, error_bad_lines=False, engine='python', encoding='utf-8')\n",
        "\n",
        "feature_numbers = eval_result['num_features'].to_list()\n",
        "accuracy_scores = eval_result['accuracy score'].to_list()\n",
        "balanced_accuracy_scores = eval_result['balanced accuracy score'].to_list()\n",
        "weighted_precision = eval_result['weighted precision'].to_list()\n",
        "weighted_recall = eval_result['weighted recall'].to_list()\n",
        "weighted_f1_scores = eval_result['weighted f1 score'].to_list()\n",
        "macro_f1_scores = eval_result['macro f1 score'].to_list()\n",
        "\n",
        "plt.plot(feature_numbers, accuracy_scores, label='accuracy score')\n",
        "plt.plot(feature_numbers, weighted_precision, label='weighted precision')\n",
        "plt.plot(feature_numbers, weighted_recall, label='weighted recall')\n",
        "plt.plot(feature_numbers, weighted_f1_scores, label='weighted f1 score')\n",
        "plt.plot(feature_numbers, macro_f1_scores, label='macro f1 score')\n",
        "plt.legend()\n",
        "plt.grid()\n",
        "\n",
        "plt.figure()\n",
        "plt.xlabel('Number of Features')\n",
        "plt.ylabel('Score')\n",
        "plt.plot(feature_numbers, balanced_accuracy_scores, label='balanced accuracy score')\n",
        "plt.plot(feature_numbers, macro_f1_scores, label='macro f1 score')\n",
        "\n",
        "plt.legend()\n",
        "plt.grid()\n",
        "plt.show()"
      ],
      "metadata": {
        "colab": {
          "base_uri": "https://localhost:8080/",
          "height": 648
        },
        "id": "-in3CgDQkRyH",
        "outputId": "0dcc4ada-25c2-491f-d5d3-5e2c174dc999"
      },
      "execution_count": 6,
      "outputs": [
        {
          "output_type": "stream",
          "name": "stderr",
          "text": [
            "/usr/local/lib/python3.7/dist-packages/IPython/core/interactiveshell.py:2882: FutureWarning: The error_bad_lines argument has been deprecated and will be removed in a future version.\n",
            "\n",
            "\n",
            "  exec(code_obj, self.user_global_ns, self.user_ns)\n"
          ]
        },
        {
          "output_type": "display_data",
          "data": {
            "text/plain": [
              "<Figure size 432x288 with 1 Axes>"
            ],
            "image/png": "[encoded data removed]"
          },
          "metadata": {
            "needs_background": "light"
          }
        },
        {
          "output_type": "display_data",
          "data": {
            "text/plain": [
              "<Figure size 432x288 with 1 Axes>"
            ],
            "image/png": "[encoded data removed]"
          },
          "metadata": {
            "needs_background": "light"
          }
        }
      ]
    }
  ]
}